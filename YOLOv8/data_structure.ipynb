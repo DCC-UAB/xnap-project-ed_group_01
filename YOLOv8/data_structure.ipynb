{
 "cells": [
  {
   "attachments": {},
   "cell_type": "markdown",
   "metadata": {},
   "source": [
    "### Structure the IIT dataset for object detection"
   ]
  },
  {
   "cell_type": "code",
   "execution_count": 57,
   "metadata": {},
   "outputs": [],
   "source": [
    "import numpy as np\n",
    "import pandas as pd\n",
    "from scipy.io import loadmat\n",
    "import os\n",
    "import cv2\n",
    "from PIL import Image"
   ]
  },
  {
   "cell_type": "code",
   "execution_count": 64,
   "metadata": {},
   "outputs": [],
   "source": [
    "annots_test = loadmat('./testCharBound.mat')\n",
    "annots_train = loadmat('./trainCharBound.mat')"
   ]
  },
  {
   "cell_type": "code",
   "execution_count": 65,
   "metadata": {},
   "outputs": [],
   "source": [
    "def convert_bbox_to_yolo(bbox, image_width, image_height):\n",
    "    x, y, width, height = bbox\n",
    "\n",
    "    # Calculate the bounding box center coordinates\n",
    "    center_x = x + width / 2\n",
    "    center_y = y + height / 2\n",
    "\n",
    "    # Normalize the coordinates by dividing them by the image width and height\n",
    "    yolo_center_x = center_x / image_width\n",
    "    yolo_center_y = center_y / image_height\n",
    "\n",
    "    # Normalize the width and height by dividing them by the image width and height\n",
    "    yolo_width = width / image_width\n",
    "    yolo_height = height / image_height\n",
    "\n",
    "    # Return the bounding box in YOLO format\n",
    "    return yolo_center_x, yolo_center_y, yolo_width, yolo_height\n"
   ]
  },
  {
   "cell_type": "code",
   "execution_count": 75,
   "metadata": {},
   "outputs": [],
   "source": [
    "saveImgTrain_dir = \"./data/images/train/\"\n",
    "saveAnnotTrain_dir = \"./data/labels/train/\"\n",
    "saveImgTest_dir = \"./data/images/test/\"\n",
    "saveAnnotTest_dir = \"./data/labels/test/\"\n",
    "\n",
    "for i in range(annots_train['trainCharBound'].shape[1]):\n",
    "    img_path =annots_train['trainCharBound'][:,i][0][0][0]\n",
    "    img = Image.open(img_path)\n",
    "    bb_img = annots_train['trainCharBound'][:,i][0][2].tolist()\n",
    "    img.save(os.path.join(saveImgTrain_dir, img_path.split('/')[1]))\n",
    "    img_width, img_height = img.size\n",
    "    with open(os.path.join(saveAnnotTrain_dir, img_path.split('/')[1].split('.')[0]+'.txt'), 'w') as file:\n",
    "        for bb in bb_img:\n",
    "            resulting_vec = ['0']\n",
    "            yolo_coords = convert_bbox_to_yolo(bb, img_width, img_height)\n",
    "            resulting_vec += yolo_coords\n",
    "            s = \" \".join(map(str, resulting_vec))\n",
    "            file.write(s+'\\n')"
   ]
  }
 ],
 "metadata": {
  "kernelspec": {
   "display_name": "base",
   "language": "python",
   "name": "python3"
  },
  "language_info": {
   "codemirror_mode": {
    "name": "ipython",
    "version": 3
   },
   "file_extension": ".py",
   "mimetype": "text/x-python",
   "name": "python",
   "nbconvert_exporter": "python",
   "pygments_lexer": "ipython3",
   "version": "3.9.13"
  },
  "orig_nbformat": 4
 },
 "nbformat": 4,
 "nbformat_minor": 2
}
