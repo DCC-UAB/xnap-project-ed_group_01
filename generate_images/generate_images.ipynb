{
 "cells": [
  {
   "cell_type": "code",
   "execution_count": 1,
   "metadata": {},
   "outputs": [],
   "source": [
    "from PIL import Image, ImageDraw, ImageFont, ImageColor\n",
    "import random\n",
    "import numpy as np\n",
    "import sys\n",
    "sys.path.insert(0, 'C:/Users/xavid/Documents/GitHub/xnap-project-ed_group_01')\n",
    "from utils.utils import convert_bbox_to_yolo"
   ]
  },
  {
   "cell_type": "code",
   "execution_count": null,
   "metadata": {},
   "outputs": [],
   "source": []
  },
  {
   "cell_type": "code",
   "execution_count": 3,
   "metadata": {},
   "outputs": [
    {
     "name": "stdout",
     "output_type": "stream",
     "text": [
      "45 -4\n",
      "130 -5\n",
      "47 1\n",
      "30 -1\n"
     ]
    },
    {
     "data": {
      "image/png": "[encoded data removed]",
      "text/plain": [
       "<PIL.Image.Image image mode=RGB size=143x28>"
      ]
     },
     "metadata": {},
     "output_type": "display_data"
    },
    {
     "name": "stdout",
     "output_type": "stream",
     "text": [
      "105 6\n",
      "47 23\n"
     ]
    },
    {
     "data": {
      "image/png": "[encoded data removed]",
      "text/plain": [
       "<PIL.Image.Image image mode=RGB size=147x40>"
      ]
     },
     "metadata": {},
     "output_type": "display_data"
    },
    {
     "name": "stdout",
     "output_type": "stream",
     "text": [
      "55 0\n",
      "118 -2\n",
      "40 -3\n",
      "2 3\n",
      "57 0\n"
     ]
    },
    {
     "data": {
      "image/png": "[encoded data removed]",
      "text/plain": [
       "<PIL.Image.Image image mode=RGB size=150x29>"
      ]
     },
     "metadata": {},
     "output_type": "display_data"
    },
    {
     "name": "stdout",
     "output_type": "stream",
     "text": [
      "1 4\n",
      "103 3\n",
      "43 -1\n",
      "28 -3\n",
      "36 1\n",
      "67 1\n"
     ]
    },
    {
     "data": {
      "image/png": "[encoded data removed]",
      "text/plain": [
       "<PIL.Image.Image image mode=RGB size=116x23>"
      ]
     },
     "metadata": {},
     "output_type": "display_data"
    },
    {
     "name": "stdout",
     "output_type": "stream",
     "text": [
      "0 -5\n",
      "32 -2\n",
      "49 -3\n"
     ]
    },
    {
     "data": {
      "image/png": "[encoded data removed]",
      "text/plain": [
       "<PIL.Image.Image image mode=RGB size=139x21>"
      ]
     },
     "metadata": {},
     "output_type": "display_data"
    }
   ],
   "source": [
    "fonts = [\"Arial.ttf\", \"calibri.ttf\", \"corbel.ttf\", \"courbd.ttf\", \"segoepr.ttf\"]\n",
    "list_char = \"123456789abcdefghijklmnopqrstuvwxyz\"\n",
    "\n",
    "for i in range(5):\n",
    "    with open(f\"./labels/{i}.txt\", \"w\") as file:\n",
    "\n",
    "        size = (random.randint(100, 150), random.randint(20,40))\n",
    "        img = Image.new(mode=\"RGB\", size=size, color='white')\n",
    "        font = fonts[random.randint(0, len(fonts)-1)]\n",
    "        font = ImageFont.truetype(f'C:/Windows/Fonts/{font}', random.randint(15,25))\n",
    "\n",
    "        for j in range(random.randint(2, 6)):\n",
    "            char_index = random.randint(0, len(list_char)-1)\n",
    "            char = list_char[char_index]\n",
    "            bbox = list(font.getbbox(char))\n",
    "            \n",
    "            \n",
    "            width_box = bbox[2]-bbox[0]\n",
    "            height_box = bbox[3]-bbox[1]\n",
    "\n",
    "            x = random.randint(-bbox[0],size[0]-bbox[0]-width_box) \n",
    "            y = random.randint(-bbox[1],size[1]-bbox[1]-height_box)\n",
    "            print(x,y)\n",
    "            draw = ImageDraw.Draw(img)\n",
    "            draw.text((x,y), char, font=font, fill = \"black\")\n",
    "\n",
    "            bbox[0] =  max(0, bbox[0] +x)\n",
    "            bbox[2] = min(size[0], bbox[2] +x)\n",
    "            bbox[1] = max(0, bbox[1] +y)\n",
    "            bbox[3] = min(size[1], bbox[3] +y)\n",
    "            \n",
    "            draw.rectangle(bbox, None, \"#f00\")\n",
    "\n",
    "            bbox_yolo = convert_bbox_to_yolo(bbox, size[0], size[1])\n",
    "            file.write(f\"{char_index} {bbox_yolo[0]} {bbox_yolo[1]} {bbox_yolo[2]} {bbox_yolo[3]}\\n\")\n",
    "        file.close()\n",
    "        display(img)\n",
    "        img.save(f\"./images/{i}.jpg\")\n",
    "        "
   ]
  },
  {
   "cell_type": "code",
   "execution_count": null,
   "metadata": {},
   "outputs": [],
   "source": []
  }
 ],
 "metadata": {
  "kernelspec": {
   "display_name": "base",
   "language": "python",
   "name": "python3"
  },
  "language_info": {
   "codemirror_mode": {
    "name": "ipython",
    "version": 3
   },
   "file_extension": ".py",
   "mimetype": "text/x-python",
   "name": "python",
   "nbconvert_exporter": "python",
   "pygments_lexer": "ipython3",
   "version": "3.8.12"
  },
  "orig_nbformat": 4
 },
 "nbformat": 4,
 "nbformat_minor": 2
}
