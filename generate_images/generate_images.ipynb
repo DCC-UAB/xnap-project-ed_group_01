{
 "cells": [
  {
   "cell_type": "code",
   "execution_count": 1,
   "metadata": {},
   "outputs": [],
   "source": [
    "from PIL import Image, ImageDraw, ImageFont, ImageColor"
   ]
  },
  {
   "cell_type": "code",
   "execution_count": 4,
   "metadata": {},
   "outputs": [
    {
     "data": {
      "image/png": "[encoded data removed]",
      "text/plain": [
       "<PIL.Image.Image image mode=RGBA size=400x300>"
      ]
     },
     "metadata": {},
     "output_type": "display_data"
    }
   ],
   "source": [
    "img = Image.new(mode=\"RGBA\", size=(400,300), color='darkorange')\n",
    "font = ImageFont.truetype('C:/Windows/Fonts/Arial.ttf', 32)\n",
    "draw = ImageDraw.Draw(img)\n",
    "draw.text((50, 100), \"H\", font=font)\n",
    "display(img)"
   ]
  },
  {
   "cell_type": "code",
   "execution_count": 35,
   "metadata": {},
   "outputs": [],
   "source": [
    "import random\n",
    "\n",
    "def create_img():\n",
    "    img = Image.new(mode=\"RGB\", size=(100,20), color='white')\n",
    "    return img\n",
    "\n",
    "font = ImageFont.truetype('C:/Windows/Fonts/Arial.ttf', 20)\n",
    "draw = ImageDraw.Draw(img)\n",
    "list_char = \"123456789abcdefghijklmnopqrstuvwxyz\"\n",
    "\n",
    "for i in range(10):\n",
    "    img = create_img()\n",
    "    with open(f\"./labels/{i}.txt\", \"w\") as file:\n",
    "        for j in range(4):\n",
    "            char = list_char[random.randint(0, len(list_char)-1)]\n",
    "            x = 0 + i*random.randint(20,25)\n",
    "            y = 0\n",
    "            draw.text((x, y), char, font=font, fill = \"black\")\n",
    "            file.write(f\"{char} {x+5} {y+5} 10 15\\n\")\n",
    "    img.save(f\"./images/{i}.jpg\")\n",
    "        "
   ]
  },
  {
   "cell_type": "code",
   "execution_count": null,
   "metadata": {},
   "outputs": [],
   "source": []
  }
 ],
 "metadata": {
  "kernelspec": {
   "display_name": "base",
   "language": "python",
   "name": "python3"
  },
  "language_info": {
   "codemirror_mode": {
    "name": "ipython",
    "version": 3
   },
   "file_extension": ".py",
   "mimetype": "text/x-python",
   "name": "python",
   "nbconvert_exporter": "python",
   "pygments_lexer": "ipython3",
   "version": "3.8.12"
  },
  "orig_nbformat": 4
 },
 "nbformat": 4,
 "nbformat_minor": 2
}
