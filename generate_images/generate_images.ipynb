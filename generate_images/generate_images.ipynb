{
 "cells": [
  {
   "cell_type": "code",
   "execution_count": 2,
   "metadata": {},
   "outputs": [],
   "source": [
    "from PIL import Image, ImageDraw, ImageFont, ImageColor"
   ]
  },
  {
   "cell_type": "code",
   "execution_count": 4,
   "metadata": {},
   "outputs": [
    {
     "data": {
      "image/png": "[encoded data removed]",
      "text/plain": [
       "<PIL.Image.Image image mode=RGBA size=400x300>"
      ]
     },
     "metadata": {},
     "output_type": "display_data"
    }
   ],
   "source": [
    "img = Image.new(mode=\"RGBA\", size=(400,300), color='darkorange')\n",
    "font = ImageFont.truetype('C:/Windows/Fonts/Arial.ttf', 32)\n",
    "draw = ImageDraw.Draw(img)\n",
    "draw.text((50, 100), \"H\", font=font)\n",
    "display(img)"
   ]
  },
  {
   "cell_type": "code",
   "execution_count": 8,
   "metadata": {},
   "outputs": [
    {
     "data": {
      "image/png": "[encoded data removed]",
      "text/plain": [
       "<PIL.Image.Image image mode=RGBA size=400x300>"
      ]
     },
     "metadata": {},
     "output_type": "display_data"
    },
    {
     "name": "stdout",
     "output_type": "stream",
     "text": [
      "[(50, 100), (80, 100), (110, 100), (140, 100)]\n"
     ]
    }
   ],
   "source": [
    "img = Image.new(mode=\"RGBA\", size=(400,300), color='darkorange')\n",
    "font = ImageFont.truetype('C:/Windows/Fonts/Arial.ttf', 32)\n",
    "draw = ImageDraw.Draw(img)\n",
    "\n",
    "word = \"Hola\"\n",
    "bounding_box = []\n",
    "for i, w in enumerate(word):\n",
    "    x = 50 + i*30\n",
    "    y = 100\n",
    "    draw.text((x, y), w, font=font)\n",
    "    bounding_box.append((x,y))\n",
    "display(img)\n",
    "print(bounding_box)"
   ]
  },
  {
   "cell_type": "code",
   "execution_count": null,
   "metadata": {},
   "outputs": [],
   "source": []
  }
 ],
 "metadata": {
  "kernelspec": {
   "display_name": "base",
   "language": "python",
   "name": "python3"
  },
  "language_info": {
   "codemirror_mode": {
    "name": "ipython",
    "version": 3
   },
   "file_extension": ".py",
   "mimetype": "text/x-python",
   "name": "python",
   "nbconvert_exporter": "python",
   "pygments_lexer": "ipython3",
   "version": "3.8.12"
  },
  "orig_nbformat": 4
 },
 "nbformat": 4,
 "nbformat_minor": 2
}
