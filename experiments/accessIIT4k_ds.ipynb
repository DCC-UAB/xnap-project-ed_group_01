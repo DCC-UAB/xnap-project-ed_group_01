{
 "cells": [
  {
   "cell_type": "code",
   "execution_count": 1,
   "metadata": {},
   "outputs": [],
   "source": [
    "import numpy as np\n",
    "import pandas as pd\n",
    "from scipy.io import loadmat\n",
    "import os"
   ]
  },
  {
   "cell_type": "code",
   "execution_count": 2,
   "metadata": {},
   "outputs": [
    {
     "name": "stdout",
     "output_type": "stream",
     "text": [
      "c:\\Users\\adars\\github-classroom\\DCC-UAB\\xnap-project-ed_group_01\\experiments\n"
     ]
    }
   ],
   "source": [
    "print(os.getcwd())\n",
    "# el dataset està en format .mat\n",
    "annots = loadmat('../Datasets/IIT5k/testdata.mat')"
   ]
  },
  {
   "cell_type": "code",
   "execution_count": 3,
   "metadata": {},
   "outputs": [],
   "source": [
    "# To access the data (testdata.mat)\n",
    "\n",
    "# Get test data\n",
    "test_data = annots['testdata'][:,0]\n",
    "# Get the image name (index 0)\n",
    "first_image = annots['testdata'][:,0][0][0]\n",
    "# Ger groundtruth (index 0)\n",
    "gt_first_image = annots['testdata'][:,0][0][1]\n",
    "# Get smallLexi (Contains a lexicon list of 50 words per image) (index 0) -> ens interessa???\n",
    "sL_first_image = annots['testdata'][:,0][0][2]\n",
    "# Get mediumLexi (Contains a lexicon list of 1000 words per image) (index 0) -> ens interessa???\n",
    "mL_first_image = annots['testdata'][:,0][0][3]"
   ]
  },
  {
   "cell_type": "code",
   "execution_count": 22,
   "metadata": {},
   "outputs": [
    {
     "data": {
      "text/plain": [
       "'PRIVATE'"
      ]
     },
     "execution_count": 22,
     "metadata": {},
     "output_type": "execute_result"
    }
   ],
   "source": [
    "annots['testdata'][:,0][0][1][0]\n"
   ]
  },
  {
   "cell_type": "code",
   "execution_count": 18,
   "metadata": {},
   "outputs": [
    {
     "data": {
      "text/plain": [
       "3000"
      ]
     },
     "execution_count": 18,
     "metadata": {},
     "output_type": "execute_result"
    }
   ],
   "source": [
    "annots['testdata'][:,:].shape[1]"
   ]
  },
  {
   "cell_type": "code",
   "execution_count": 2,
   "metadata": {},
   "outputs": [],
   "source": [
    "# To access testCharBound.mat -> té els bounding boxes\n",
    "annots_2 = loadmat('../Datasets/IIT5k/testCharBound.mat')"
   ]
  },
  {
   "cell_type": "code",
   "execution_count": 14,
   "metadata": {},
   "outputs": [],
   "source": [
    "# Get test data\n",
    "test_data = annots_2['testCharBound'][:,0] # first sample\n",
    "# Get the image name (index 0)\n",
    "first_image = annots_2['testCharBound'][:,0][0][0]\n",
    "# Get groundtruth (index 0)\n",
    "gt_first_image = annots_2['testCharBound'][:,0][0][1]\n",
    "# Get boundingbox (index 0)\n",
    "bb_first_img = annots_2['testCharBound'][:,0][0][2]"
   ]
  },
  {
   "cell_type": "code",
   "execution_count": null,
   "metadata": {},
   "outputs": [],
   "source": []
  }
 ],
 "metadata": {
  "kernelspec": {
   "display_name": "base",
   "language": "python",
   "name": "python3"
  },
  "language_info": {
   "codemirror_mode": {
    "name": "ipython",
    "version": 3
   },
   "file_extension": ".py",
   "mimetype": "text/x-python",
   "name": "python",
   "nbconvert_exporter": "python",
   "pygments_lexer": "ipython3",
   "version": "3.9.13"
  },
  "orig_nbformat": 4
 },
 "nbformat": 4,
 "nbformat_minor": 2
}
