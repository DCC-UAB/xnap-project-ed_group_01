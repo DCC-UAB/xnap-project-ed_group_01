{
 "cells": [
  {
   "cell_type": "code",
   "execution_count": null,
   "metadata": {},
   "outputs": [],
   "source": [
    "import os\n",
    "import random\n",
    "import sys\n",
    "import yaml\n",
    "sys.path.insert(0, 'C:/Users/adars/github-classroom/DCC-UAB/xnap-project-ed_group_01/')\n",
    "with open('params.yml', 'r') as file:\n",
    "    configuration = yaml.safe_load(file)"
   ]
  },
  {
   "cell_type": "code",
   "execution_count": null,
   "metadata": {},
   "outputs": [],
   "source": [
    "dir_imgs = configuration[\"img_dir\"]\n",
    "test_annot = \"/home/alumne/Dataset_phoc/test_annotation.txt\"\n",
    "train_annot = \"/home/alumne/Dataset_phoc/train_annotation.txt\"\n",
    "\n",
    "list_imgs = []\n",
    "\n",
    "for path, subdirs, files in os.walk(dir_imgs):\n",
    "   for filename in files:\n",
    "    f = os.path.join(path, filename)\n",
    "    list_imgs.append(f)\n",
    "\n",
    "random.shuffle(list_imgs)\n",
    "\n",
    "with open(train_annot, 'w') as file:\n",
    "        iter_list = list_imgs[:int(len(list_imgs)*0.8)]\n",
    "        for idx, row in enumerate(iter_list):\n",
    "            s = \" \".join(map(str, row))\n",
    "            if idx == len(iter_list)-1:\n",
    "                file.write(s)\n",
    "            else:\n",
    "                 file.write(s+'\\n')\n",
    "\n",
    "\n",
    "with open(test_annot, 'w') as file:\n",
    "        iter_list = list_imgs[int(len(list_imgs)*0.8):]\n",
    "        for idx, row in enumerate(iter_list):\n",
    "            s = \" \".join(map(str, row))\n",
    "            if idx == len(iter_list)-1:\n",
    "                file.write(s)\n",
    "            else:\n",
    "                 file.write(s+'\\n')"
   ]
  }
 ],
 "metadata": {
  "kernelspec": {
   "display_name": "base",
   "language": "python",
   "name": "python3"
  },
  "language_info": {
   "codemirror_mode": {
    "name": "ipython",
    "version": 3
   },
   "file_extension": ".py",
   "mimetype": "text/x-python",
   "name": "python",
   "nbconvert_exporter": "python",
   "pygments_lexer": "ipython3",
   "version": "3.9.13"
  },
  "orig_nbformat": 4
 },
 "nbformat": 4,
 "nbformat_minor": 2
}
