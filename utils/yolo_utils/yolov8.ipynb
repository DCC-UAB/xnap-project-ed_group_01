{
 "cells": [
  {
   "attachments": {},
   "cell_type": "markdown",
   "metadata": {},
   "source": [
    "### YOLOV8"
   ]
  },
  {
   "cell_type": "code",
   "execution_count": 7,
   "metadata": {},
   "outputs": [],
   "source": [
    "from ultralytics import YOLO"
   ]
  },
  {
   "cell_type": "code",
   "execution_count": null,
   "metadata": {},
   "outputs": [],
   "source": [
    "# Load model\n",
    "model = YOLO(\"yolov8n.yaml\")"
   ]
  },
  {
   "cell_type": "code",
   "execution_count": 9,
   "metadata": {},
   "outputs": [
    {
     "name": "stderr",
     "output_type": "stream",
     "text": [
      "Ultralytics YOLOv8.0.105  Python-3.9.13 torch-2.0.0+cpu CPU\n",
      "\u001b[34m\u001b[1myolo\\engine\\trainer: \u001b[0mtask=detect, mode=train, model=yolov8n.yaml, data=data.yaml, epochs=1, patience=50, batch=16, imgsz=640, save=True, save_period=-1, cache=False, device=None, workers=8, project=None, name=None, exist_ok=False, pretrained=False, optimizer=SGD, verbose=True, seed=0, deterministic=True, single_cls=False, rect=False, cos_lr=False, close_mosaic=0, resume=False, amp=True, overlap_mask=True, mask_ratio=4, dropout=0.0, val=True, split=val, save_json=False, save_hybrid=False, conf=None, iou=0.7, max_det=300, half=False, dnn=False, plots=True, source=None, show=False, save_txt=False, save_conf=False, save_crop=False, show_labels=True, show_conf=True, vid_stride=1, line_width=None, visualize=False, augment=False, agnostic_nms=False, classes=None, retina_masks=False, boxes=True, format=torchscript, keras=False, optimize=False, int8=False, dynamic=False, simplify=False, opset=None, workspace=4, nms=False, lr0=0.01, lrf=0.01, momentum=0.937, weight_decay=0.0005, warmup_epochs=3.0, warmup_momentum=0.8, warmup_bias_lr=0.1, box=7.5, cls=0.5, dfl=1.5, pose=12.0, kobj=1.0, label_smoothing=0.0, nbs=64, hsv_h=0.015, hsv_s=0.7, hsv_v=0.4, degrees=0.0, translate=0.1, scale=0.5, shear=0.0, perspective=0.0, flipud=0.0, fliplr=0.5, mosaic=1.0, mixup=0.0, copy_paste=0.0, cfg=None, v5loader=False, tracker=botsort.yaml, save_dir=C:\\Users\\adars\\runs\\detect\\train6\n",
      "Overriding model.yaml nc=80 with nc=1\n",
      "\n",
      "                   from  n    params  module                                       arguments                     \n",
      "  0                  -1  1       464  ultralytics.nn.modules.conv.Conv             [3, 16, 3, 2]                 \n",
      "  1                  -1  1      4672  ultralytics.nn.modules.conv.Conv             [16, 32, 3, 2]                \n",
      "  2                  -1  1      7360  ultralytics.nn.modules.block.C2f             [32, 32, 1, True]             \n",
      "  3                  -1  1     18560  ultralytics.nn.modules.conv.Conv             [32, 64, 3, 2]                \n",
      "  4                  -1  2     49664  ultralytics.nn.modules.block.C2f             [64, 64, 2, True]             \n",
      "  5                  -1  1     73984  ultralytics.nn.modules.conv.Conv             [64, 128, 3, 2]               \n",
      "  6                  -1  2    197632  ultralytics.nn.modules.block.C2f             [128, 128, 2, True]           \n",
      "  7                  -1  1    295424  ultralytics.nn.modules.conv.Conv             [128, 256, 3, 2]              \n",
      "  8                  -1  1    460288  ultralytics.nn.modules.block.C2f             [256, 256, 1, True]           \n",
      "  9                  -1  1    164608  ultralytics.nn.modules.block.SPPF            [256, 256, 5]                 \n",
      " 10                  -1  1         0  torch.nn.modules.upsampling.Upsample         [None, 2, 'nearest']          \n",
      " 11             [-1, 6]  1         0  ultralytics.nn.modules.conv.Concat           [1]                           \n",
      " 12                  -1  1    148224  ultralytics.nn.modules.block.C2f             [384, 128, 1]                 \n",
      " 13                  -1  1         0  torch.nn.modules.upsampling.Upsample         [None, 2, 'nearest']          \n",
      " 14             [-1, 4]  1         0  ultralytics.nn.modules.conv.Concat           [1]                           \n",
      " 15                  -1  1     37248  ultralytics.nn.modules.block.C2f             [192, 64, 1]                  \n",
      " 16                  -1  1     36992  ultralytics.nn.modules.conv.Conv             [64, 64, 3, 2]                \n",
      " 17            [-1, 12]  1         0  ultralytics.nn.modules.conv.Concat           [1]                           \n",
      " 18                  -1  1    123648  ultralytics.nn.modules.block.C2f             [192, 128, 1]                 \n",
      " 19                  -1  1    147712  ultralytics.nn.modules.conv.Conv             [128, 128, 3, 2]              \n",
      " 20             [-1, 9]  1         0  ultralytics.nn.modules.conv.Concat           [1]                           \n",
      " 21                  -1  1    493056  ultralytics.nn.modules.block.C2f             [384, 256, 1]                 \n",
      " 22        [15, 18, 21]  1    751507  ultralytics.nn.modules.head.Detect           [1, [64, 128, 256]]           \n",
      "YOLOv8n summary: 225 layers, 3011043 parameters, 3011027 gradients\n",
      "\n",
      "\u001b[34m\u001b[1moptimizer:\u001b[0m SGD(lr=0.01) with parameter groups 57 weight(decay=0.0), 64 weight(decay=0.0005), 63 bias\n",
      "\u001b[34m\u001b[1mtrain: \u001b[0mScanning C:\\Users\\adars\\OneDrive\\Escritorio\\ProjecteNN\\IIIT5K\\data\\labels\\train... 1999 images, 0 backgrounds, 1 corrupt: 100%|██████████| 2000/2000 [00:23<00:00, 86.89it/s] \n",
      "\u001b[34m\u001b[1mtrain: \u001b[0mWARNING  C:\\Users\\adars\\OneDrive\\Escritorio\\ProjecteNN\\IIIT5K\\data\\images\\train\\34_13.png: ignoring corrupt image/label: image size (11, 9) <10 pixels\n",
      "\u001b[34m\u001b[1mtrain: \u001b[0mNew cache created: C:\\Users\\adars\\OneDrive\\Escritorio\\ProjecteNN\\IIIT5K\\data\\labels\\train.cache\n",
      "\u001b[34m\u001b[1mval: \u001b[0mScanning C:\\Users\\adars\\OneDrive\\Escritorio\\ProjecteNN\\IIIT5K\\data\\labels\\train.cache... 1999 images, 0 backgrounds, 1 corrupt: 100%|██████████| 2000/2000 [00:00<?, ?it/s]\n",
      "\u001b[34m\u001b[1mtrain: \u001b[0mWARNING  C:\\Users\\adars\\OneDrive\\Escritorio\\ProjecteNN\\IIIT5K\\data\\images\\train\\34_13.png: ignoring corrupt image/label: image size (11, 9) <10 pixels\n",
      "Plotting labels to C:\\Users\\adars\\runs\\detect\\train6\\labels.jpg... \n",
      "Image sizes 640 train, 640 val\n",
      "Using 0 dataloader workers\n",
      "Logging results to \u001b[1mC:\\Users\\adars\\runs\\detect\\train6\u001b[0m\n",
      "Starting training for 1 epochs...\n",
      "\n",
      "      Epoch    GPU_mem   box_loss   cls_loss   dfl_loss  Instances       Size\n",
      "        1/1         0G      3.222       3.08       3.89        160        640: 100%|██████████| 125/125 [56:50<00:00, 27.28s/it]\n",
      "                 Class     Images  Instances      Box(P          R      mAP50  mAP50-95):  52%|█████▏    | 33/63 [05:17<05:29, 10.98s/it]WARNING  NMS time limit 2.100s exceeded\n",
      "                 Class     Images  Instances      Box(P          R      mAP50  mAP50-95):  54%|█████▍    | 34/63 [05:41<07:12, 14.90s/it]WARNING  NMS time limit 2.100s exceeded\n",
      "                 Class     Images  Instances      Box(P          R      mAP50  mAP50-95):  59%|█████▊    | 37/63 [06:39<07:14, 16.69s/it]WARNING  NMS time limit 2.100s exceeded\n",
      "                 Class     Images  Instances      Box(P          R      mAP50  mAP50-95):  60%|██████    | 38/63 [07:06<08:13, 19.75s/it]WARNING  NMS time limit 2.100s exceeded\n",
      "                 Class     Images  Instances      Box(P          R      mAP50  mAP50-95):  62%|██████▏   | 39/63 [07:30<08:20, 20.87s/it]WARNING  NMS time limit 2.100s exceeded\n",
      "                 Class     Images  Instances      Box(P          R      mAP50  mAP50-95):  63%|██████▎   | 40/63 [07:50<07:58, 20.78s/it]WARNING  NMS time limit 2.100s exceeded\n",
      "                 Class     Images  Instances      Box(P          R      mAP50  mAP50-95):  79%|███████▉  | 50/63 [11:17<03:50, 17.77s/it]WARNING  NMS time limit 2.100s exceeded\n",
      "                 Class     Images  Instances      Box(P          R      mAP50  mAP50-95):  81%|████████  | 51/63 [11:37<03:43, 18.61s/it]WARNING  NMS time limit 2.100s exceeded\n",
      "                 Class     Images  Instances      Box(P          R      mAP50  mAP50-95):  86%|████████▌ | 54/63 [12:27<02:36, 17.41s/it]WARNING  NMS time limit 2.100s exceeded\n",
      "                 Class     Images  Instances      Box(P          R      mAP50  mAP50-95):  87%|████████▋ | 55/63 [12:47<02:24, 18.08s/it]WARNING  NMS time limit 2.100s exceeded\n",
      "                 Class     Images  Instances      Box(P          R      mAP50  mAP50-95):  89%|████████▉ | 56/63 [13:06<02:08, 18.35s/it]WARNING  NMS time limit 2.100s exceeded\n",
      "                 Class     Images  Instances      Box(P          R      mAP50  mAP50-95):  90%|█████████ | 57/63 [13:25<01:52, 18.76s/it]WARNING  NMS time limit 2.100s exceeded\n",
      "                 Class     Images  Instances      Box(P          R      mAP50  mAP50-95):  92%|█████████▏| 58/63 [13:49<01:40, 20.09s/it]WARNING  NMS time limit 2.100s exceeded\n",
      "                 Class     Images  Instances      Box(P          R      mAP50  mAP50-95):  94%|█████████▎| 59/63 [14:10<01:22, 20.50s/it]WARNING  NMS time limit 2.100s exceeded\n",
      "                 Class     Images  Instances      Box(P          R      mAP50  mAP50-95):  95%|█████████▌| 60/63 [14:30<01:00, 20.33s/it]WARNING  NMS time limit 2.100s exceeded\n",
      "                 Class     Images  Instances      Box(P          R      mAP50  mAP50-95):  97%|█████████▋| 61/63 [14:49<00:40, 20.03s/it]WARNING  NMS time limit 2.100s exceeded\n",
      "                 Class     Images  Instances      Box(P          R      mAP50  mAP50-95): 100%|██████████| 63/63 [15:15<00:00, 14.54s/it]\n",
      "                   all       1999       9677     0.0134      0.779      0.033     0.0089\n",
      "\n",
      "1 epochs completed in 1.203 hours.\n",
      "Optimizer stripped from C:\\Users\\adars\\runs\\detect\\train6\\weights\\last.pt, 6.2MB\n",
      "Optimizer stripped from C:\\Users\\adars\\runs\\detect\\train6\\weights\\best.pt, 6.2MB\n",
      "\n",
      "Validating C:\\Users\\adars\\runs\\detect\\train6\\weights\\best.pt...\n",
      "Ultralytics YOLOv8.0.105  Python-3.9.13 torch-2.0.0+cpu CPU\n",
      "YOLOv8n summary (fused): 168 layers, 3005843 parameters, 0 gradients\n",
      "                 Class     Images  Instances      Box(P          R      mAP50  mAP50-95):  79%|███████▉  | 50/63 [06:40<02:56, 13.54s/it]WARNING  NMS time limit 2.100s exceeded\n",
      "                 Class     Images  Instances      Box(P          R      mAP50  mAP50-95):  86%|████████▌ | 54/63 [07:37<02:08, 14.31s/it]WARNING  NMS time limit 2.100s exceeded\n",
      "                 Class     Images  Instances      Box(P          R      mAP50  mAP50-95):  87%|████████▋ | 55/63 [07:53<01:58, 14.83s/it]WARNING  NMS time limit 2.100s exceeded\n",
      "                 Class     Images  Instances      Box(P          R      mAP50  mAP50-95):  89%|████████▉ | 56/63 [08:09<01:46, 15.17s/it]WARNING  NMS time limit 2.100s exceeded\n",
      "                 Class     Images  Instances      Box(P          R      mAP50  mAP50-95):  90%|█████████ | 57/63 [08:27<01:35, 15.84s/it]WARNING  NMS time limit 2.100s exceeded\n",
      "                 Class     Images  Instances      Box(P          R      mAP50  mAP50-95):  92%|█████████▏| 58/63 [08:49<01:29, 17.88s/it]WARNING  NMS time limit 2.100s exceeded\n",
      "                 Class     Images  Instances      Box(P          R      mAP50  mAP50-95):  94%|█████████▎| 59/63 [09:10<01:14, 18.72s/it]WARNING  NMS time limit 2.100s exceeded\n",
      "                 Class     Images  Instances      Box(P          R      mAP50  mAP50-95):  95%|█████████▌| 60/63 [09:30<00:56, 18.92s/it]WARNING  NMS time limit 2.100s exceeded\n",
      "                 Class     Images  Instances      Box(P          R      mAP50  mAP50-95):  97%|█████████▋| 61/63 [09:49<00:38, 19.08s/it]WARNING  NMS time limit 2.100s exceeded\n",
      "                 Class     Images  Instances      Box(P          R      mAP50  mAP50-95): 100%|██████████| 63/63 [10:23<00:00,  9.90s/it]\n",
      "                   all       1999       9677     0.0133      0.798     0.0338    0.00912\n",
      "Speed: 2.1ms preprocess, 269.1ms inference, 0.0ms loss, 31.0ms postprocess per image\n",
      "Results saved to \u001b[1mC:\\Users\\adars\\runs\\detect\\train6\u001b[0m\n"
     ]
    }
   ],
   "source": [
    "results = model.train(data = 'data.yaml', epochs = 1, task = \"detect\")"
   ]
  },
  {
   "cell_type": "code",
   "execution_count": null,
   "metadata": {},
   "outputs": [],
   "source": []
  }
 ],
 "metadata": {
  "kernelspec": {
   "display_name": "base",
   "language": "python",
   "name": "python3"
  },
  "language_info": {
   "codemirror_mode": {
    "name": "ipython",
    "version": 3
   },
   "file_extension": ".py",
   "mimetype": "text/x-python",
   "name": "python",
   "nbconvert_exporter": "python",
   "pygments_lexer": "ipython3",
   "version": "3.9.13"
  },
  "orig_nbformat": 4
 },
 "nbformat": 4,
 "nbformat_minor": 2
}
